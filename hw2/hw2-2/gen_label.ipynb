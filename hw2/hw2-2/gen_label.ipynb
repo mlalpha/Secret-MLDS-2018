{
 "cells": [
  {
   "cell_type": "code",
   "execution_count": 5,
   "metadata": {},
   "outputs": [],
   "source": [
    "\"\"\"\n",
    "This file is used to save the output label(e.g. answer.txt) to\n",
    "numpy array. It reads the given file, reads every line(a sentence),\n",
    "and change every words to one-hot encoding depending on the given\n",
    "Gensim model.\n",
    "\n",
    "output file: a .npy file, which contains a list of array,\n",
    "and its shape is (label_num, sequence_length, 1)\n",
    "\"1\" means the word's id in one-hot encoding\n",
    "When you use CrossEntropyLoss, it's the target.\n",
    "\"\"\"\n",
    "import gensim\n",
    "import numpy as np"
   ]
  },
  {
   "cell_type": "code",
   "execution_count": 6,
   "metadata": {},
   "outputs": [],
   "source": [
    "input_path = './answer.txt'\n",
    "output_path = './answer_array.npy'\n",
    "model_path = './Keyed_vec.wv'"
   ]
  },
  {
   "cell_type": "code",
   "execution_count": 7,
   "metadata": {},
   "outputs": [],
   "source": [
    "gensim_wv = gensim.models.KeyedVectors.load(model_path)\n",
    "input_file = open(input_path)\n",
    "input_text = input_file.readlines()\n",
    "input_file.close()"
   ]
  },
  {
   "cell_type": "code",
   "execution_count": 4,
   "metadata": {},
   "outputs": [
    {
     "name": "stdout",
     "output_type": "stream",
     "text": [
      "['我們', '選', '了', '一個', '很', '特別', '的', '日子']\n",
      "['來', '紀念', '退伍軍人', '節']\n",
      "['今天', '早上']\n",
      "['就是', '保護', '我們', '的', '軍隊']\n",
      "['保護', '為', '國家', '效力', '的', '男女']\n",
      "['我們', '的', '軍隊', '奮勇作戰']\n",
      "['現在', '該', '讓', '他們', '回來', '了']\n",
      "['在', '今天', '這個', '節日', ',', '我們', '要', '對']\n"
     ]
    }
   ],
   "source": [
    "#gensim_wv.vocab['字'].index\n",
    "for sentence_num in range(len(input_text)):\n",
    "    sentence = input_text[sentence_num]\n",
    "    sentence = sentence.replace(\"\\n\",\"\")\n",
    "    sentence = sentence.split()\n",
    "    for word_num in range(len(sentence)):\n",
    "        try:\n",
    "            sentence[word_num] = gensim_wv.vocab[sentence[word_num]].index\n",
    "        except:\n",
    "            #process unknown words, nedd <UNK>'s id\n",
    "            sentence[word_num] = gensim_wv.vocab['<UNK>'].index\n",
    "    input_text[sentence_num] = np.array(sentence)\n",
    "    "
   ]
  },
  {
   "cell_type": "code",
   "execution_count": 12,
   "metadata": {},
   "outputs": [
    {
     "data": {
      "text/plain": [
       "'美國'"
      ]
     },
     "execution_count": 12,
     "metadata": {},
     "output_type": "execute_result"
    }
   ],
   "source": [
    "print(len(input_text))\n",
    "np.save(output_path, input_text)"
   ]
  },
  {
   "cell_type": "code",
   "execution_count": null,
   "metadata": {},
   "outputs": [],
   "source": []
  }
 ],
 "metadata": {
  "kernelspec": {
   "display_name": "Python 3",
   "language": "python",
   "name": "python3"
  },
  "language_info": {
   "codemirror_mode": {
    "name": "ipython",
    "version": 3
   },
   "file_extension": ".py",
   "mimetype": "text/x-python",
   "name": "python",
   "nbconvert_exporter": "python",
   "pygments_lexer": "ipython3",
   "version": "3.6.6"
  }
 },
 "nbformat": 4,
 "nbformat_minor": 2
}
