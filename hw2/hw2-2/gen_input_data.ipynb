{
 "cells": [
  {
   "cell_type": "code",
   "execution_count": 1,
   "metadata": {},
   "outputs": [],
   "source": [
    "\"\"\"\n",
    "This file is used to save the input data(e.g. question.txt) to\n",
    "numpy array. It reads the given file, reads every line(a sentence),\n",
    "and change every words to word_vector depending on the given\n",
    "Gensim model.\n",
    "\n",
    "output file: a .npy file, which contains a list of array,\n",
    "and its shape is (label_num, sequence_length, word_vector_dimension).\n",
    "\n",
    "\"\"\"\n",
    "import gensim\n",
    "import numpy as np"
   ]
  },
  {
   "cell_type": "code",
   "execution_count": 2,
   "metadata": {},
   "outputs": [],
   "source": [
    "input_path = './question.txt'\n",
    "output_path = './question_array.npy'\n",
    "model_path = '../Jeffery/word2vec_wv_Jeff.wv'"
   ]
  },
  {
   "cell_type": "code",
   "execution_count": 3,
   "metadata": {},
   "outputs": [],
   "source": [
    "gensim_wv = gensim.models.KeyedVectors.load(model_path)\n",
    "input_file = open(input_path)\n",
    "input_text = input_file.readlines()\n",
    "input_file.close()"
   ]
  },
  {
   "cell_type": "code",
   "execution_count": 4,
   "metadata": {},
   "outputs": [],
   "source": [
    "for sentence_num in range(len(input_text)):\n",
    "    sentence = input_text[sentence_num]\n",
    "    sentence = sentence.replace(\"\\n\",\"\")\n",
    "    sentence = sentence.split()\n",
    "    sentence.append('<EOS>')\n",
    "    for word_num in range(len(sentence)):\n",
    "        try:\n",
    "            sentence[word_num] = gensim_wv[sentence[word_num]]\n",
    "        except:\n",
    "            #process unknown words, need <UNK>\n",
    "            sentence[word_num] = gensim_wv['<UNK>']\n",
    "    input_text[sentence_num] = np.array(sentence)"
   ]
  },
  {
   "cell_type": "code",
   "execution_count": null,
   "metadata": {},
   "outputs": [],
   "source": [
    "print(len(input_text))\n",
    "np.save(output_path, input_text)"
   ]
  },
  {
   "cell_type": "code",
   "execution_count": null,
   "metadata": {},
   "outputs": [],
   "source": [
    "test = np.load('./question_array.npy')"
   ]
  },
  {
   "cell_type": "code",
   "execution_count": null,
   "metadata": {},
   "outputs": [],
   "source": [
    "test[2].shape"
   ]
  }
 ],
 "metadata": {
  "kernelspec": {
   "display_name": "Python 3",
   "language": "python",
   "name": "python3"
  },
  "language_info": {
   "codemirror_mode": {
    "name": "ipython",
    "version": 3
   },
   "file_extension": ".py",
   "mimetype": "text/x-python",
   "name": "python",
   "nbconvert_exporter": "python",
   "pygments_lexer": "ipython3",
   "version": "3.6.6"
  }
 },
 "nbformat": 4,
 "nbformat_minor": 2
}
