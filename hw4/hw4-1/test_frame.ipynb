{
 "cells": [
  {
   "cell_type": "code",
   "execution_count": 37,
   "metadata": {},
   "outputs": [],
   "source": [
    "import numpy as np\n",
    "from PIL import Image"
   ]
  },
  {
   "cell_type": "code",
   "execution_count": 38,
   "metadata": {},
   "outputs": [],
   "source": [
    "\n",
    "d= np.load(\"./test_f.npy\")\n",
    "\n"
   ]
  },
  {
   "cell_type": "code",
   "execution_count": 39,
   "metadata": {},
   "outputs": [],
   "source": [
    "c4 = Image.fromarray(d.squeeze(axis=2).astype(np.uint8), mode=\"L\")\n"
   ]
  },
  {
   "cell_type": "code",
   "execution_count": 40,
   "metadata": {},
   "outputs": [
    {
     "data": {
      "image/png": "[encoded data removed]",
      "text/plain": [
       "<PIL.Image.Image image mode=L size=80x95 at 0x7FEEF3104908>"
      ]
     },
     "execution_count": 40,
     "metadata": {},
     "output_type": "execute_result"
    }
   ],
   "source": [
    "c4"
   ]
  },
  {
   "cell_type": "code",
   "execution_count": 25,
   "metadata": {},
   "outputs": [
    {
     "data": {
      "text/plain": [
       "array([[[ 0.1634043],\n",
       "        [ 0.1634043],\n",
       "        [ 0.1634043],\n",
       "        ..., \n",
       "        [ 0.3268086],\n",
       "        [ 0.3268086],\n",
       "        [ 0.3268086]],\n",
       "\n",
       "       [[ 0.3268086],\n",
       "        [ 0.3268086],\n",
       "        [ 0.3268086],\n",
       "        ..., \n",
       "        [ 0.3268086],\n",
       "        [ 0.3268086],\n",
       "        [ 0.3268086]],\n",
       "\n",
       "       [[ 0.3268086],\n",
       "        [ 0.3268086],\n",
       "        [ 0.3268086],\n",
       "        ..., \n",
       "        [ 0.3268086],\n",
       "        [ 0.3268086],\n",
       "        [ 0.3268086]],\n",
       "\n",
       "       ..., \n",
       "       [[ 0.9254902],\n",
       "        [ 0.9254902],\n",
       "        [ 0.9254902],\n",
       "        ..., \n",
       "        [ 0.9254902],\n",
       "        [ 0.9254902],\n",
       "        [ 0.9254902]],\n",
       "\n",
       "       [[ 0.9254902],\n",
       "        [ 0.9254902],\n",
       "        [ 0.9254902],\n",
       "        ..., \n",
       "        [ 0.9254902],\n",
       "        [ 0.9254902],\n",
       "        [ 0.9254902]],\n",
       "\n",
       "       [[ 0.9254902],\n",
       "        [ 0.9254902],\n",
       "        [ 0.9254902],\n",
       "        ..., \n",
       "        [ 0.9254902],\n",
       "        [ 0.9254902],\n",
       "        [ 0.9254902]]], dtype=float32)"
      ]
     },
     "execution_count": 25,
     "metadata": {},
     "output_type": "execute_result"
    }
   ],
   "source": []
  },
  {
   "cell_type": "code",
   "execution_count": 7,
   "metadata": {},
   "outputs": [
    {
     "data": {
      "text/plain": [
       "array([[[   0.       ],\n",
       "        [   0.       ],\n",
       "        [   0.       ],\n",
       "        ..., \n",
       "        [  83.3361969],\n",
       "        [  83.3361969],\n",
       "        [  83.3361969]],\n",
       "\n",
       "       [[  83.3361969],\n",
       "        [  83.3361969],\n",
       "        [  83.3361969],\n",
       "        ..., \n",
       "        [  83.3361969],\n",
       "        [  83.3361969],\n",
       "        [  83.3361969]],\n",
       "\n",
       "       [[  83.3361969],\n",
       "        [  83.3361969],\n",
       "        [  83.3361969],\n",
       "        ..., \n",
       "        [  83.3361969],\n",
       "        [  83.3361969],\n",
       "        [  83.3361969]],\n",
       "\n",
       "       ..., \n",
       "       [[ 236.       ],\n",
       "        [ 236.       ],\n",
       "        [ 236.       ],\n",
       "        ..., \n",
       "        [ 236.       ],\n",
       "        [ 236.       ],\n",
       "        [ 236.       ]],\n",
       "\n",
       "       [[ 236.       ],\n",
       "        [ 236.       ],\n",
       "        [ 236.       ],\n",
       "        ..., \n",
       "        [ 236.       ],\n",
       "        [ 236.       ],\n",
       "        [ 236.       ]],\n",
       "\n",
       "       [[ 236.       ],\n",
       "        [ 236.       ],\n",
       "        [ 236.       ],\n",
       "        ..., \n",
       "        [ 236.       ],\n",
       "        [ 236.       ],\n",
       "        [ 236.       ]]], dtype=float32)"
      ]
     },
     "execution_count": 7,
     "metadata": {},
     "output_type": "execute_result"
    }
   ],
   "source": [
    "d"
   ]
  },
  {
   "cell_type": "code",
   "execution_count": null,
   "metadata": {},
   "outputs": [],
   "source": []
  }
 ],
 "metadata": {
  "kernelspec": {
   "display_name": "Python 3",
   "language": "python",
   "name": "python3"
  },
  "language_info": {
   "codemirror_mode": {
    "name": "ipython",
    "version": 3
   },
   "file_extension": ".py",
   "mimetype": "text/x-python",
   "name": "python",
   "nbconvert_exporter": "python",
   "pygments_lexer": "ipython3",
   "version": "3.6.6"
  }
 },
 "nbformat": 4,
 "nbformat_minor": 2
}
